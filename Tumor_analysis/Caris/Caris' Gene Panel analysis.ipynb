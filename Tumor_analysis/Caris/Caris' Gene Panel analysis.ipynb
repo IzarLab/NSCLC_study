{
 "cells": [
  {
   "cell_type": "markdown",
   "id": "e0751c30",
   "metadata": {},
   "source": [
    "## Import libraries"
   ]
  },
  {
   "cell_type": "code",
   "execution_count": 1,
   "id": "6ecb491c",
   "metadata": {},
   "outputs": [],
   "source": [
    "import numpy as np\n",
    "import pandas as pd\n",
    "from numpy import mean\n",
    "from numpy import std\n",
    "from numpy.random import randn\n",
    "from numpy.random import seed\n",
    "from matplotlib import pyplot\n",
    "import pingouin as pg"
   ]
  },
  {
   "cell_type": "markdown",
   "id": "9103336f",
   "metadata": {},
   "source": [
    "## Define functions to import and analyze CNV data"
   ]
  },
  {
   "cell_type": "code",
   "execution_count": 2,
   "id": "4c3aa523",
   "metadata": {},
   "outputs": [],
   "source": [
    "# Import the list of genes used in Caris' panel\n",
    "def caris_Gene_Panel():\n",
    "    gene_panel = pd.read_csv(\"~/gene_panel.txt\", delimiter='\\t', header= None)\n",
    "    gene_panel = gene_panel[0].tolist()\n",
    "    return gene_panel\n",
    "\n",
    "# Imports copy number data as is from cbioportal\n",
    "# Each row is a gene CNV and each column is a sample\n",
    "def TCGA_cnv_data():\n",
    "    data_cna = pd.read_csv(\"~/data_cna.txt\", delimiter='\\t')\n",
    "    data_cna = data_cna.set_index(\"Hugo_Symbol\")\n",
    "\n",
    "    return data_cna\n",
    "\n",
    "# Fetch the length of each genes from a pre-computed lookup table\n",
    "# The input is a list of Hugo Gene IDs\n",
    "def find_gene_lengths(genes):\n",
    "    #genes = [\"TP53\", \"APC\"]\n",
    "    lenGenes_lookup_table = pd.read_csv(\"~/Gene_lengths_table\", delimiter='\\t', index_col=0)\n",
    "    genes = lenGenes_lookup_table.index.intersection(genes)\n",
    "    lenGenes = lenGenes_lookup_table.loc[genes]\n",
    "    return lenGenes\n",
    "\n",
    "# Estimates the fraction of genome altered\n",
    "# Takes as input (i) 'gene_panel' which is a list of Hugo Symbol IDs and \n",
    "# (ii) 'cnv data', a data frame where each row is a gene CNV and a sample\n",
    "def estimate_FGA(gene_panel, \n",
    "                 cnv_data):\n",
    "    gene_panel_lengths = find_gene_lengths(gene_panel)\n",
    "    total_effective_genome = sum(gene_panel_lengths[\"Length\"])\n",
    "    fga_panel = {}\n",
    "    for sample in cnv_data.columns:\n",
    "        sample_gene_cnv = cnv_data[sample]\n",
    "        altered_genes = sample_gene_cnv[sample_gene_cnv != 0].index\n",
    "        altered_genes = altered_genes.intersection(gene_panel_lengths.index.to_list())\n",
    "        altered_genome = sum(gene_panel_lengths.loc[altered_genes.to_list()][\"Length\"])\n",
    "        fga_panel[sample] = altered_genome/total_effective_genome\n",
    "\n",
    "    fga_panel =  pd.DataFrame(data=fga_panel, index=[0])\n",
    "    return fga_panel"
   ]
  },
  {
   "cell_type": "markdown",
   "id": "db762d98",
   "metadata": {},
   "source": [
    "## Analysis"
   ]
  },
  {
   "cell_type": "markdown",
   "id": "7a8fba2a",
   "metadata": {},
   "source": [
    "#### Import Caris' list of genes"
   ]
  },
  {
   "cell_type": "code",
   "execution_count": 3,
   "id": "6ec34197",
   "metadata": {},
   "outputs": [],
   "source": [
    "caris_gene_panel = caris_Gene_Panel()"
   ]
  },
  {
   "cell_type": "markdown",
   "id": "e37df561",
   "metadata": {},
   "source": [
    "#### Import CNV data\n",
    "CNV data should be a dataframe where each row is a gene CNV and each column is a sample.\n",
    "Here, we take as example TCGA data downloaded from cbioportal."
   ]
  },
  {
   "cell_type": "code",
   "execution_count": 4,
   "id": "c42fb081",
   "metadata": {},
   "outputs": [],
   "source": [
    "cnv_data = TCGA_cnv_data()"
   ]
  },
  {
   "cell_type": "markdown",
   "id": "41af0007",
   "metadata": {},
   "source": [
    "#### Compute FGA based on WES (leverages all genes) and Caris gene panel (731 genes)\n"
   ]
  },
  {
   "cell_type": "code",
   "execution_count": 5,
   "id": "e03903fc",
   "metadata": {},
   "outputs": [],
   "source": [
    "wes_fga = estimate_FGA(list(cnv_data.index[1:]), cnv_data)\n",
    "panel_fga = estimate_FGA(caris_gene_panel, cnv_data)"
   ]
  },
  {
   "cell_type": "markdown",
   "id": "9c53ed22",
   "metadata": {},
   "source": [
    "#### Add the estimated FGAs to the CNV tables"
   ]
  },
  {
   "cell_type": "code",
   "execution_count": 6,
   "id": "86b6a742",
   "metadata": {
    "scrolled": true
   },
   "outputs": [
    {
     "name": "stderr",
     "output_type": "stream",
     "text": [
      "/var/folders/q4/jx094y8j56zbbcwc8gd6ft4rwk7m14/T/ipykernel_28217/4257222431.py:1: FutureWarning: The default dtype for empty Series will be 'object' instead of 'float64' in a future version. Specify a dtype explicitly to silence this warning.\n",
      "  cnv_data.loc[\"Fraction Genome Altered\"] = None\n",
      "/var/folders/q4/jx094y8j56zbbcwc8gd6ft4rwk7m14/T/ipykernel_28217/4257222431.py:2: FutureWarning: The default dtype for empty Series will be 'object' instead of 'float64' in a future version. Specify a dtype explicitly to silence this warning.\n",
      "  cnv_data.loc[\"Estimated Fraction Genome Altered\"] = None\n"
     ]
    }
   ],
   "source": [
    "cnv_data.loc[\"Fraction Genome Altered\"] = None\n",
    "cnv_data.loc[\"Estimated Fraction Genome Altered\"] = None\n",
    "cnv_data.loc[\"Fraction Genome Altered\"][1:511] = wes_fga[list(cnv_data.columns[:-2])].iloc[0].tolist()\n",
    "cnv_data.loc[\"Estimated Fraction Genome Altered\"][1:511] = panel_fga[list(cnv_data.columns[:-2])].iloc[0].tolist()\n",
    "cnv_data = cnv_data.transpose()"
   ]
  },
  {
   "cell_type": "markdown",
   "id": "87d4e4db",
   "metadata": {},
   "source": [
    "## Compute correlation "
   ]
  },
  {
   "cell_type": "code",
   "execution_count": 7,
   "id": "eb42972c",
   "metadata": {},
   "outputs": [
    {
     "data": {
      "text/html": [
       "<div>\n",
       "<style scoped>\n",
       "    .dataframe tbody tr th:only-of-type {\n",
       "        vertical-align: middle;\n",
       "    }\n",
       "\n",
       "    .dataframe tbody tr th {\n",
       "        vertical-align: top;\n",
       "    }\n",
       "\n",
       "    .dataframe thead th {\n",
       "        text-align: right;\n",
       "    }\n",
       "</style>\n",
       "<table border=\"1\" class=\"dataframe\">\n",
       "  <thead>\n",
       "    <tr style=\"text-align: right;\">\n",
       "      <th></th>\n",
       "      <th>n</th>\n",
       "      <th>r</th>\n",
       "      <th>CI95%</th>\n",
       "      <th>p-val</th>\n",
       "      <th>BF10</th>\n",
       "      <th>power</th>\n",
       "    </tr>\n",
       "  </thead>\n",
       "  <tbody>\n",
       "    <tr>\n",
       "      <th>pearson</th>\n",
       "      <td>510</td>\n",
       "      <td>0.992192</td>\n",
       "      <td>[0.99, 0.99]</td>\n",
       "      <td>0.0</td>\n",
       "      <td>nan</td>\n",
       "      <td>1.0</td>\n",
       "    </tr>\n",
       "  </tbody>\n",
       "</table>\n",
       "</div>"
      ],
      "text/plain": [
       "           n         r         CI95%  p-val BF10  power\n",
       "pearson  510  0.992192  [0.99, 0.99]    0.0  nan    1.0"
      ]
     },
     "execution_count": 7,
     "metadata": {},
     "output_type": "execute_result"
    }
   ],
   "source": [
    "pg.corr(x=cnv_data['Fraction Genome Altered'], y=cnv_data['Estimated Fraction Genome Altered'])"
   ]
  },
  {
   "cell_type": "markdown",
   "id": "bef6eb77",
   "metadata": {},
   "source": [
    "## Plot correlation "
   ]
  },
  {
   "cell_type": "code",
   "execution_count": 8,
   "id": "3106bab1",
   "metadata": {},
   "outputs": [
    {
     "data": {
      "image/png": "[encoded data removed]",
      "text/plain": [
       "<Figure size 640x480 with 1 Axes>"
      ]
     },
     "metadata": {},
     "output_type": "display_data"
    }
   ],
   "source": [
    "pyplot.scatter(cnv_data['Fraction Genome Altered'], cnv_data['Estimated Fraction Genome Altered'])\n",
    "pyplot.xlabel(\"WES-based FGA\")\n",
    "pyplot.ylabel(\"Caris' Panel based Fraction Genome Altered\")\n",
    "pyplot.show()"
   ]
  }
 ],
 "metadata": {
  "kernelspec": {
   "display_name": "Python 3 (ipykernel)",
   "language": "python",
   "name": "python3"
  },
  "language_info": {
   "codemirror_mode": {
    "name": "ipython",
    "version": 3
   },
   "file_extension": ".py",
   "mimetype": "text/x-python",
   "name": "python",
   "nbconvert_exporter": "python",
   "pygments_lexer": "ipython3",
   "version": "3.9.13"
  }
 },
 "nbformat": 4,
 "nbformat_minor": 5
}
