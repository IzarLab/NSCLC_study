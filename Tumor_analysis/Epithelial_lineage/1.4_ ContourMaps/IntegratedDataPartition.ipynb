{
 "cells": [
  {
   "cell_type": "code",
   "execution_count": null,
   "id": "9105af60",
   "metadata": {},
   "outputs": [],
   "source": [
    "library(Seurat)\n",
    "library(SeuratData)\n",
    "library(SeuratDisk)\n",
    "library(reticulate)\n",
    "library(celldex)\n",
    "library(SingleR)"
   ]
  },
  {
   "cell_type": "code",
   "execution_count": null,
   "id": "a34b1754",
   "metadata": {},
   "outputs": [],
   "source": [
    "t <-readRDS(\"Full500MergedTumorCtrlIntegratedAssay.rds\")\n",
    "\n",
    "t <- ScaleData(t, verbose = FALSE)\n",
    "t <- RunPCA(t, npcs = 30, verbose = FALSE)\n",
    "\n"
   ]
  },
  {
   "cell_type": "code",
   "execution_count": null,
   "id": "cfaecb8d",
   "metadata": {},
   "outputs": [],
   "source": [
    "t <- RunUMAP(t, reduction = \"pca\", dims = 1:30)\n",
    "t <- FindNeighbors(t, reduction = \"pca\", dims = 1:30)\n",
    "t <- FindClusters(t, resolution = 0.5)\n",
    "\n",
    "\n"
   ]
  },
  {
   "cell_type": "code",
   "execution_count": null,
   "id": "c4f17a4b",
   "metadata": {},
   "outputs": [],
   "source": [
    "write.csv(as.matrix(GetAssayData(object = t)), \"integrated_cell_data_counts.csv\")"
   ]
  },
  {
   "cell_type": "code",
   "execution_count": null,
   "id": "f1128d96",
   "metadata": {},
   "outputs": [],
   "source": [
    "umapCoord <- as.data.frame(Embeddings(object = t[[\"umap\"]]))\n",
    "umapCoord\n",
    "\n",
    "df<- t@meta.data\n",
    "allData <- cbind(df, UMAP_1 = umapCoord$UMAP_1)\n",
    "allData <- cbind(allData, UMAP_2 = umapCoord$UMAP_2)\n",
    "\n",
    "write.csv(allData, \"UMAP_Integrated.csv\")"
   ]
  }
 ],
 "metadata": {
  "kernelspec": {
   "display_name": "R",
   "language": "R",
   "name": "r"
  },
  "language_info": {
   "codemirror_mode": "r",
   "file_extension": ".r",
   "mimetype": "text/x-r-source",
   "name": "R",
   "pygments_lexer": "r",
   "version": "4.2.1"
  }
 },
 "nbformat": 4,
 "nbformat_minor": 5
}
